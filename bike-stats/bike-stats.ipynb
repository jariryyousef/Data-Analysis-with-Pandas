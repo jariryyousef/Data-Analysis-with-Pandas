{
 "cells": [
  {
   "cell_type": "markdown",
   "metadata": {},
   "source": [
    "# Data Analysis with Pandas\n",
    "## Cycle Share Data set \n",
    "### Yousef Jariry\n",
    "#### 25/10/2021"
   ]
  },
  {
   "cell_type": "code",
   "execution_count": 3,
   "metadata": {},
   "outputs": [],
   "source": [
    "import pandas as pd\n",
    "import numpy as np"
   ]
  },
  {
   "cell_type": "code",
   "execution_count": 4,
   "metadata": {},
   "outputs": [
    {
     "name": "stderr",
     "output_type": "stream",
     "text": [
      "b'Skipping line 50794: expected 12 fields, saw 20\\n'\n"
     ]
    }
   ],
   "source": [
    "df_trip = pd.read_csv('./trip.csv',error_bad_lines=False)\n",
    "df_weather = pd.read_csv('./weather.csv')\n",
    "df_station = pd.read_csv('./station.csv')"
   ]
  },
  {
   "cell_type": "markdown",
   "metadata": {},
   "source": [
    "## 1.What is the average trip duration for a borrowed bicycle?"
   ]
  },
  {
   "cell_type": "code",
   "execution_count": 5,
   "metadata": {},
   "outputs": [
    {
     "data": {
      "text/plain": [
       "1178.2956753399776"
      ]
     },
     "execution_count": 5,
     "metadata": {},
     "output_type": "execute_result"
    }
   ],
   "source": [
    "average=df_trip['tripduration'].mean()\n",
    "average"
   ]
  },
  {
   "cell_type": "markdown",
   "metadata": {},
   "source": [
    "## 2.What’s the most common age of a bicycle-sharer?"
   ]
  },
  {
   "cell_type": "code",
   "execution_count": 6,
   "metadata": {},
   "outputs": [
    {
     "data": {
      "text/plain": [
       "34"
      ]
     },
     "execution_count": 6,
     "metadata": {},
     "output_type": "execute_result"
    }
   ],
   "source": [
    "# mode() ==> Pandas get the most frequent values of a column\n",
    "avg_age =2021-int(df_trip['birthyear'].mode())\n",
    "avg_age"
   ]
  },
  {
   "cell_type": "markdown",
   "metadata": {},
   "source": [
    "## 3.Given all the weather data here, find the average precipitation per month, and the median precipitation."
   ]
  },
  {
   "cell_type": "code",
   "execution_count": 7,
   "metadata": {},
   "outputs": [
    {
     "data": {
      "text/plain": [
       "Date\n",
       "2014-10    0.300526\n",
       "2014-11    0.141667\n",
       "2014-12    0.145161\n",
       "2015-01    0.070645\n",
       "2015-02    0.163214\n",
       "2015-03    0.135161\n",
       "2015-04    0.056667\n",
       "2015-05    0.014194\n",
       "2015-06    0.005667\n",
       "2015-07    0.008710\n",
       "2015-08    0.035484\n",
       "2015-09    0.041000\n",
       "2015-10    0.120645\n",
       "2015-11    0.234000\n",
       "2015-12    0.327419\n",
       "2016-01    0.216452\n",
       "2016-02    0.173448\n",
       "2016-03    0.178710\n",
       "2016-04    0.046000\n",
       "2016-05    0.010645\n",
       "2016-06    0.055333\n",
       "2016-07    0.015484\n",
       "2016-08    0.000968\n",
       "Freq: M, Name: Precipitation_In, dtype: float64"
      ]
     },
     "execution_count": 7,
     "metadata": {},
     "output_type": "execute_result"
    }
   ],
   "source": [
    "df_weather.groupby(pd.PeriodIndex(df_weather['Date'], freq=\"M\"))['Precipitation_In'].mean()"
   ]
  },
  {
   "cell_type": "markdown",
   "metadata": {},
   "source": [
    "## 4.What’s the average number of bikes at a given bike station?"
   ]
  },
  {
   "cell_type": "code",
   "execution_count": 8,
   "metadata": {},
   "outputs": [
    {
     "data": {
      "text/plain": [
       "18"
      ]
     },
     "execution_count": 8,
     "metadata": {},
     "output_type": "execute_result"
    }
   ],
   "source": [
    "average_number_bikes= round(df_station['install_dockcount'].mean())\n",
    "average_number_bikes"
   ]
  },
  {
   "cell_type": "markdown",
   "metadata": {},
   "source": [
    "## 5.When a bike station is modified, is it more likely that it’ll lose bikes or gain bikes? How do you know?"
   ]
  },
  {
   "cell_type": "code",
   "execution_count": 9,
   "metadata": {},
   "outputs": [
    {
     "name": "stdout",
     "output_type": "stream",
     "text": [
      "-64\n"
     ]
    }
   ],
   "source": [
    "remove_nan_date = df_station[['modification_date','current_dockcount','install_dockcount']].dropna()\n",
    "station_is_modified = remove_nan_date['current_dockcount'].sum() - remove_nan_date['install_dockcount'].sum()\n",
    "print(station_is_modified)"
   ]
  },
  {
   "cell_type": "markdown",
   "metadata": {},
   "source": [
    "## 1. What is the average minimum temperature in fahrenheit?\n",
    "## 2.What is the average max temperature in fahrenheit\n",
    "## 3.find the gender for trip_id=522 ?"
   ]
  },
  {
   "cell_type": "code",
   "execution_count": 10,
   "metadata": {},
   "outputs": [
    {
     "data": {
      "text/plain": [
       "49.45428156748911"
      ]
     },
     "execution_count": 10,
     "metadata": {},
     "output_type": "execute_result"
    }
   ],
   "source": [
    "average_min=df_weather['Min_TemperatureF'].mean()\n",
    "average_min"
   ]
  },
  {
   "cell_type": "code",
   "execution_count": 11,
   "metadata": {},
   "outputs": [
    {
     "data": {
      "text/plain": [
       "64.02757619738752"
      ]
     },
     "execution_count": 11,
     "metadata": {},
     "output_type": "execute_result"
    }
   ],
   "source": [
    "average_max=df_weather['Max_Temperature_F'].mean()\n",
    "average_max"
   ]
  },
  {
   "cell_type": "code",
   "execution_count": 12,
   "metadata": {},
   "outputs": [
    {
     "data": {
      "text/plain": [
       "82       Male\n",
       "50874    Male\n",
       "Name: gender, dtype: object"
      ]
     },
     "execution_count": 12,
     "metadata": {},
     "output_type": "execute_result"
    }
   ],
   "source": [
    "gender = df_trip[df_trip[\"trip_id\"]==522][\"gender\"]\n",
    "gender"
   ]
  }
 ],
 "metadata": {
  "interpreter": {
   "hash": "54472ae729c8b765beb6d6a9bd8cebda2e1d6bd6252a852dfaa759c4b7d48a27"
  },
  "kernelspec": {
   "display_name": "Python 3.9.5 64-bit ('.venv': poetry)",
   "name": "python3"
  },
  "language_info": {
   "codemirror_mode": {
    "name": "ipython",
    "version": 3
   },
   "file_extension": ".py",
   "mimetype": "text/x-python",
   "name": "python",
   "nbconvert_exporter": "python",
   "pygments_lexer": "ipython3",
   "version": "3.9.5"
  },
  "orig_nbformat": 4
 },
 "nbformat": 4,
 "nbformat_minor": 2
}
